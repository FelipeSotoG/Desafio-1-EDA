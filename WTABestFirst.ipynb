{
  "nbformat": 4,
  "nbformat_minor": 0,
  "metadata": {
    "colab": {
      "name": "WTABestFirst",
      "provenance": [],
      "collapsed_sections": [],
      "include_colab_link": true
    },
    "kernelspec": {
      "name": "python3",
      "display_name": "Python 3"
    },
    "language_info": {
      "name": "python"
    }
  },
  "cells": [
    {
      "cell_type": "markdown",
      "metadata": {
        "id": "view-in-github",
        "colab_type": "text"
      },
      "source": [
        "<a href=\"https://colab.research.google.com/github/FelipeSotoG/Desafio-1-EDA/blob/main/WTABestFirst.ipynb\" target=\"_parent\"><img src=\"https://colab.research.google.com/assets/colab-badge.svg\" alt=\"Open In Colab\"/></a>"
      ]
    },
    {
      "cell_type": "markdown",
      "source": [
        "# WTA"
      ],
      "metadata": {
        "id": "9tGHVZf2shpL"
      }
    },
    {
      "cell_type": "markdown",
      "source": [
        "\n",
        "Problema WTA resuelto con Best First Algorithm\n",
        "Initial state es ingresado manualmente."
      ],
      "metadata": {
        "id": "lvkSlEO3tXDY"
      }
    },
    {
      "cell_type": "code",
      "source": [
        "from numpy.matrixlib.defmatrix import matrix\n",
        "import numpy as np\n",
        "import itertools\n",
        "#formato de los estados\n",
        "class State:\n",
        "  id_iter = itertools.count()\n",
        "  def __init__(self, matrix, weapons, prob, value):\n",
        "    self.id = next(State.id_iter)\n",
        "    self.matrix = matrix\n",
        "    self.weapons = weapons\n",
        "    self.prob = prob\n",
        "    self.value = value\n",
        "  def __lt__(self, other):\n",
        "    return self.id < other.id\n",
        "#matriz \"vacía\"\n",
        "initial_state = State([[0,0,0],\\\n",
        "                       [0,0,0],\\\n",
        "                       [0,0,0]],\n",
        "                       [5,2,1],\n",
        "                      [[0.3,0.2,0.5],\\\n",
        "                       [0.1,0.6,0.5],\\\n",
        "                       [0.4,0.5,0.4]],\n",
        "                       [5,10,20] )\n",
        "\n",
        "class Action:\n",
        "  def __init__(self,i,j):\n",
        "    self.i=i; self.j=j\n",
        "\n",
        "N=3 #número de filas/columnas"
      ],
      "metadata": {
        "id": "8zip5AW7tX0t"
      },
      "execution_count": 1,
      "outputs": []
    },
    {
      "cell_type": "markdown",
      "source": [
        "La trancision es solo agregar uno a un item de la matriz"
      ],
      "metadata": {
        "id": "tclK1bERvkhk"
      }
    },
    {
      "cell_type": "code",
      "source": [
        "def transition(state, action):\n",
        "  state.matrix[action.i][action.j] +=1 "
      ],
      "metadata": {
        "id": "QaU5yPKYvXWl"
      },
      "execution_count": 2,
      "outputs": []
    },
    {
      "cell_type": "markdown",
      "source": [
        "Para saber **si un estado es final**, tenemos que ver si se usaron todas las armas y todos los objetidos fueron \"atacados\"."
      ],
      "metadata": {
        "id": "62YM3C5dwA9a"
      }
    },
    {
      "cell_type": "code",
      "source": [
        "def column_sum(lst):  \n",
        "     return [sum(i) for i in zip(*lst)]"
      ],
      "metadata": {
        "id": "6tYHc8ouzz47"
      },
      "execution_count": 3,
      "outputs": []
    },
    {
      "cell_type": "code",
      "source": [
        "def is_final_state(state):\n",
        "  i=0\n",
        "  for x in column_sum(state.matrix):\n",
        "    if x == 0: return False\n",
        "    i+=1\n",
        "  i=0\n",
        "  for x in state.matrix:\n",
        "    if sum(x) != state.weapons[i]: return False\n",
        "    i+=1\n",
        "  return True"
      ],
      "metadata": {
        "id": "QkjkiIq_wl1o"
      },
      "execution_count": 4,
      "outputs": []
    },
    {
      "cell_type": "markdown",
      "source": [
        "El estado es calido cuando no hay mas armas en una fila de las que deberian."
      ],
      "metadata": {
        "id": "nLAzfcsO1wdV"
      }
    },
    {
      "cell_type": "code",
      "source": [
        "def is_valid(state):\n",
        "  i=0\n",
        "  for x in state.matrix:\n",
        "    if sum(x) > state.weapons[i]: return False\n",
        "    i+=1\n",
        "  return True"
      ],
      "metadata": {
        "id": "wa8xIYX52LJo"
      },
      "execution_count": 5,
      "outputs": []
    },
    {
      "cell_type": "markdown",
      "source": [
        "Las acciones validas para este problema son toda la matriz."
      ],
      "metadata": {
        "id": "PH0E0upfxKQH"
      }
    },
    {
      "cell_type": "code",
      "source": [
        "def get_valid_actions(state):\n",
        "  valid_actions = []\n",
        "  for i in range(N):\n",
        "    for j in range(N):\n",
        "      valid_actions.append(Action(i,j))\n",
        "  return valid_actions"
      ],
      "metadata": {
        "id": "_ehD_RebxIaM"
      },
      "execution_count": 6,
      "outputs": []
    },
    {
      "cell_type": "markdown",
      "source": [
        "## Resolución del problema\n",
        "\n",
        "Ya modelado pordemos hacer la huristica que ocuparemos, la cual es la funcion objetivo.\n",
        "\n",
        "Luego podemos implementar el algoritmo Best First."
      ],
      "metadata": {
        "id": "Qr8M938t0oxY"
      }
    },
    {
      "cell_type": "markdown",
      "source": [
        "V1 con una version de la heuristica"
      ],
      "metadata": {
        "id": "B-Pow08jITKt"
      }
    },
    {
      "cell_type": "code",
      "source": [
        "import numpy as np\n",
        "\n",
        "def heuristic_eval(state):\n",
        "    minsum=0\n",
        "    for j in range(N):\n",
        "      arr=[]\n",
        "      for i in range(N):\n",
        "        if state.matrix[i][j] != 0: arr.append(pow(1-state.prob[i][j],state.matrix[i][j]))\n",
        "      minsum+= state.value[j]*np.prod(arr) \n",
        "\n",
        "    return minsum"
      ],
      "metadata": {
        "id": "SfOqLeuCDU3d"
      },
      "execution_count": 56,
      "outputs": []
    },
    {
      "cell_type": "code",
      "source": [
        "import copy\n",
        "\n",
        "from queue import PriorityQueue\n",
        "\n",
        "def bfs(initial_state):\n",
        "  q = PriorityQueue()\n",
        "  q.put( (-1, copy.deepcopy(initial_state)) )\n",
        "  iters = 0\n",
        "  while not q.empty():\n",
        "    iters += 1\n",
        "    elem=q.get()\n",
        "    state = elem[1]\n",
        "\n",
        "    if is_valid(state) == False: continue #se descarta el estado\n",
        "\n",
        "    if is_final_state(state): return state,iters #se encontró una solución!\n",
        "\n",
        "    actions = get_valid_actions(state)\n",
        "\n",
        "    for action in actions:\n",
        "      new_state = copy.deepcopy(state)\n",
        "      transition(new_state,action)\n",
        "      q.put((heuristic_eval(new_state), new_state))\n"
      ],
      "metadata": {
        "id": "AGrdK7hWz7te"
      },
      "execution_count": 57,
      "outputs": []
    },
    {
      "cell_type": "code",
      "source": [
        "state,iters=bfs(initial_state)\n",
        "print(state.matrix)\n",
        "print(heuristic_eval(state))\n",
        "print(\"iteraciones:\", iters)"
      ],
      "metadata": {
        "colab": {
          "base_uri": "https://localhost:8080/"
        },
        "id": "X1FpLxF21gzJ",
        "outputId": "0a60a21b-f1b9-4806-f45b-64f2555d401b"
      },
      "execution_count": 58,
      "outputs": [
        {
          "output_type": "stream",
          "name": "stdout",
          "text": [
            "[[1, 0, 4], [0, 2, 0], [1, 0, 0]]\n",
            "4.95\n",
            "iteraciones: 11\n"
          ]
        }
      ]
    }
  ]
}