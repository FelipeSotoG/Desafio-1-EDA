{
  "nbformat": 4,
  "nbformat_minor": 0,
  "metadata": {
    "colab": {
      "name": " WTA Hill climbing",
      "provenance": [],
      "collapsed_sections": [],
      "include_colab_link": true
    },
    "kernelspec": {
      "name": "python3",
      "display_name": "Python 3"
    },
    "language_info": {
      "name": "python"
    }
  },
  "cells": [
    {
      "cell_type": "markdown",
      "metadata": {
        "id": "view-in-github",
        "colab_type": "text"
      },
      "source": [
        "<a href=\"https://colab.research.google.com/github/FelipeSotoG/Desafio-1-EDA/blob/main/WTA_Hill_climbing.ipynb\" target=\"_parent\"><img src=\"https://colab.research.google.com/assets/colab-badge.svg\" alt=\"Open In Colab\"/></a>"
      ]
    },
    {
      "cell_type": "markdown",
      "source": [
        "# WTA"
      ],
      "metadata": {
        "id": "9tGHVZf2shpL"
      }
    },
    {
      "cell_type": "markdown",
      "source": [
        "En este tutorial explicaré como resolver un **magic square** usando grafos.\n",
        "\n",
        "El magic square consiste en un cuadrito de 3x3 en el que hay que colocar números del 1 al 9 de tal manera que sus **filas**, **columnas** y **diagonales** sumen 15.\n",
        "\n",
        "<img src=\"https://upload.wikimedia.org/wikipedia/commons/thumb/e/e4/Magicsquareexample.svg/800px-Magicsquareexample.svg.png\" width=\"200\">"
      ],
      "metadata": {
        "id": "OIpl2hSJsgAF"
      }
    },
    {
      "cell_type": "markdown",
      "source": [
        "### Modelamiento usando grafos\n",
        "\n",
        "Para resolver el problema usando grafos, lo primero que debemos hacer es modelar su resolución. Es decir, debemos definir un **estado** de partida o **inicial**, el formato de los estados intermedios y un conjunto de reglas (**acciones**) que nos permitan ir pasando de un estado a otro.\n",
        "\n",
        "Para nuestro problema, cada estado corresponderá a una **matriz de 3x3**.\n",
        "Comenzaremos la resolución con una matriz vacía y las acciones corresponderán a colocar los números uno a uno. Es decir, una **acción** corresponderá a colocar un número X en una posición (i,j) de la matriz.\n",
        "\n",
        "Para reducir la cantidad de acciones posibles a partir de un estado (sin dejar de explorar todas las alternativas), diremos que una acción consiste en colocar el siguiente número (comenzando de 1,2,3...), en una de las casillas disponibles. La varible `last_number` indica el valor del último número colocado en la matriz."
      ],
      "metadata": {
        "id": "lvkSlEO3tXDY"
      }
    },
    {
      "cell_type": "code",
      "source": [
        "from numpy.matrixlib.defmatrix import matrix\n",
        "import numpy as np\n",
        "import itertools\n",
        "#formato de los estados\n",
        "class State:\n",
        "  id_iter = itertools.count()\n",
        "  def __init__(self, matrix, weapons, prob, value):\n",
        "    self.id = next(State.id_iter)\n",
        "    self.matrix = matrix\n",
        "    self.weapons = weapons\n",
        "    self.prob = prob\n",
        "    self.value = value\n",
        "\n",
        "  def __lt__(self, other):\n",
        "    return self.id < other.id\n",
        "#matriz \"vacía\"\n",
        "initial_state = State([[1,1,3],\\\n",
        "                       [1,1,0],\\\n",
        "                       [0,0,1]],\n",
        "                       [5,2,1],\n",
        "                      [[0.3,0.2,0.5],\\\n",
        "                       [0.1,0.6,0.5],\\\n",
        "                       [0.4,0.5,0.4]],\n",
        "                       [5,10,20] )\n",
        "\n",
        "class Action:\n",
        "  def __init__(self,i,j):\n",
        "    self.i=i; self.j=j\n",
        "\n",
        "N=3 #número de filas/columnas"
      ],
      "metadata": {
        "id": "8zip5AW7tX0t"
      },
      "execution_count": null,
      "outputs": []
    },
    {
      "cell_type": "code",
      "source": [
        "heuristic_eval(initial_state)"
      ],
      "metadata": {
        "colab": {
          "base_uri": "https://localhost:8080/"
        },
        "id": "WZC1bkLhqAQP",
        "outputId": "0924b405-8ef6-42fa-e2f0-22c455aaa7c9"
      },
      "execution_count": null,
      "outputs": [
        {
          "output_type": "execute_result",
          "data": {
            "text/plain": [
              "7.8500000000000005"
            ]
          },
          "metadata": {},
          "execution_count": 62
        }
      ]
    },
    {
      "cell_type": "code",
      "source": [
        "print(initial_state.eval)"
      ],
      "metadata": {
        "colab": {
          "base_uri": "https://localhost:8080/"
        },
        "id": "mU5ktsto8En_",
        "outputId": "b6ce342f-cce3-4361-8bb2-b8ef34eaab51"
      },
      "execution_count": null,
      "outputs": [
        {
          "output_type": "stream",
          "name": "stdout",
          "text": [
            "7.8500000000000005\n"
          ]
        }
      ]
    },
    {
      "cell_type": "markdown",
      "source": [
        "Luego definiré el método para pasar de un estado a otro usando una acción.\n",
        "Observe que este método simplemente coloca en la posición (i,j) de la matriz, el siguiente número y actualiza la variable `last_number`."
      ],
      "metadata": {
        "id": "tclK1bERvkhk"
      }
    },
    {
      "cell_type": "code",
      "source": [
        "def transition(state, action):\n",
        "  state.matrix[action.i[0]][action.i[1]] -=1 \n",
        "  state.matrix[action.j[0]][action.j[1]] +=1 "
      ],
      "metadata": {
        "id": "QaU5yPKYvXWl"
      },
      "execution_count": null,
      "outputs": []
    },
    {
      "cell_type": "markdown",
      "source": [
        "Para saber **si un estado es final**, debemos revisar que el último número ingresado sea el 9 (N*N)"
      ],
      "metadata": {
        "id": "62YM3C5dwA9a"
      }
    },
    {
      "cell_type": "code",
      "source": [
        "def column_sum(lst):  \n",
        "     return [sum(i) for i in zip(*lst)]"
      ],
      "metadata": {
        "id": "6tYHc8ouzz47"
      },
      "execution_count": null,
      "outputs": []
    },
    {
      "cell_type": "code",
      "source": [
        "def is_final_state(state):\n",
        "  i=0\n",
        "  for x in column_sum(state.matrix):\n",
        "    if x == 0: return False\n",
        "    i+=1\n",
        "  i=0\n",
        "  for x in state.matrix:\n",
        "    if sum(x) != state.weapons[i]: return False\n",
        "    i+=1\n",
        "  return True"
      ],
      "metadata": {
        "id": "QkjkiIq_wl1o"
      },
      "execution_count": null,
      "outputs": []
    },
    {
      "cell_type": "markdown",
      "source": [
        "Para que un estado intermedio tenga posibilidades de convertirse en una solución al problema, podemos revisar que tanto sus filas, columnas como diagonales sumen 15 o menos. "
      ],
      "metadata": {
        "id": "nLAzfcsO1wdV"
      }
    },
    {
      "cell_type": "code",
      "source": [
        "def is_valid(state):\n",
        "  i=0\n",
        "  for x in state.matrix:\n",
        "    if sum(x) > state.weapons[i]: return False\n",
        "    i+=1\n",
        "  return True"
      ],
      "metadata": {
        "id": "wa8xIYX52LJo"
      },
      "execution_count": null,
      "outputs": []
    },
    {
      "cell_type": "markdown",
      "source": [
        "Definamos un método que nos permita obtener todas las **acciones válidas** a partir de un estado.\n",
        "\n",
        "Para ello debemos revisar en la matriz cada casilla faltante y crear la acción correspondiente."
      ],
      "metadata": {
        "id": "PH0E0upfxKQH"
      }
    },
    {
      "cell_type": "code",
      "source": [
        "def get_valid_actions(state):\n",
        "  valid_actions = []\n",
        "  for i in range(N):\n",
        "    for j in range(N):\n",
        "      if  state.matrix[i][j] != 0:\n",
        "        for it in range(N):\n",
        "          if it != j:\n",
        "            valid_actions.append(Action([i,j],[i,it]))\n",
        "  return valid_actions"
      ],
      "metadata": {
        "id": "_ehD_RebxIaM"
      },
      "execution_count": null,
      "outputs": []
    },
    {
      "cell_type": "code",
      "source": [
        "for x in get_valid_actions(initial_state):\n",
        "  print(x.i,x.j)\n",
        "  new_state = copy.deepcopy(initial_state)\n",
        "  transition(new_state,x)\n",
        "  print(new_state.matrix)"
      ],
      "metadata": {
        "colab": {
          "base_uri": "https://localhost:8080/"
        },
        "id": "TArVZJIhGndG",
        "outputId": "2267efa5-d3b3-444a-beef-fcc69a47a570"
      },
      "execution_count": null,
      "outputs": [
        {
          "output_type": "stream",
          "name": "stdout",
          "text": [
            "[0, 0] [0, 1]\n",
            "[[0, 2, 3], [1, 1, 0], [0, 0, 1]]\n",
            "[0, 0] [0, 2]\n",
            "[[0, 1, 4], [1, 1, 0], [0, 0, 1]]\n",
            "[0, 1] [0, 0]\n",
            "[[2, 0, 3], [1, 1, 0], [0, 0, 1]]\n",
            "[0, 1] [0, 2]\n",
            "[[1, 0, 4], [1, 1, 0], [0, 0, 1]]\n",
            "[0, 2] [0, 0]\n",
            "[[2, 1, 2], [1, 1, 0], [0, 0, 1]]\n",
            "[0, 2] [0, 1]\n",
            "[[1, 2, 2], [1, 1, 0], [0, 0, 1]]\n",
            "[1, 0] [1, 1]\n",
            "[[1, 1, 3], [0, 2, 0], [0, 0, 1]]\n",
            "[1, 0] [1, 2]\n",
            "[[1, 1, 3], [0, 1, 1], [0, 0, 1]]\n",
            "[1, 1] [1, 0]\n",
            "[[1, 1, 3], [2, 0, 0], [0, 0, 1]]\n",
            "[1, 1] [1, 2]\n",
            "[[1, 1, 3], [1, 0, 1], [0, 0, 1]]\n",
            "[2, 2] [2, 0]\n",
            "[[1, 1, 3], [1, 1, 0], [1, 0, 0]]\n",
            "[2, 2] [2, 1]\n",
            "[[1, 1, 3], [1, 1, 0], [0, 1, 0]]\n"
          ]
        }
      ]
    },
    {
      "cell_type": "markdown",
      "source": [
        "## Resolución del problema\n",
        "\n",
        "Una vez modelada la resolución del magic square, es hora de resolverlo. Para ello simplemente implementaremos un algoritmo de **búsqueda en profundidad** (dfs)."
      ],
      "metadata": {
        "id": "Qr8M938t0oxY"
      }
    },
    {
      "cell_type": "code",
      "source": [
        "import numpy as np\n",
        "\n",
        "def heuristic_eval(state):\n",
        "    minsum=0\n",
        "    for j in range(N):\n",
        "      arr=[]\n",
        "      for i in range(N):\n",
        "        if state.matrix[i][j] != 0: arr.append(pow(1-state.prob[i][j],state.matrix[i][j]))\n",
        "      minsum+= state.value[j]*np.prod(arr) \n",
        "    return minsum"
      ],
      "metadata": {
        "id": "SfOqLeuCDU3d"
      },
      "execution_count": null,
      "outputs": []
    },
    {
      "cell_type": "code",
      "source": [
        "import copy\n",
        "\n",
        "from queue import PriorityQueue\n",
        "\n",
        "def hill_climbing(initial_state):\n",
        "  stack = [copy.deepcopy(initial_state)]\n",
        "  iters = 0\n",
        "  while len(stack)>0:\n",
        "    iters += 1\n",
        "    state = stack.pop()\n",
        "\n",
        "    actions = get_valid_actions(state)\n",
        "    minv= heuristic_eval(state)\n",
        "    for action in actions:\n",
        "      new_state = copy.deepcopy(state)\n",
        "      transition(new_state,action)\n",
        "      if heuristic_eval(new_state) < minv:\n",
        "        stack.append(new_state)\n",
        "        minv= heuristic_eval(new_state)\n",
        "  return state,iters"
      ],
      "metadata": {
        "id": "AGrdK7hWz7te"
      },
      "execution_count": null,
      "outputs": []
    },
    {
      "cell_type": "code",
      "source": [
        "state,iters=hill_climbing(initial_state)\n",
        "print(\"==============================================\")\n",
        "print(state.matrix)\n",
        "print(heuristic_eval(state))\n",
        "print(\"iteraciones:\", iters)"
      ],
      "metadata": {
        "colab": {
          "base_uri": "https://localhost:8080/"
        },
        "id": "X1FpLxF21gzJ",
        "outputId": "24ec9ef9-1dbb-46f3-9f56-f40cac26a95f"
      },
      "execution_count": null,
      "outputs": [
        {
          "output_type": "stream",
          "name": "stdout",
          "text": [
            "==============================================\n",
            "[[2, 0, 3], [0, 2, 0], [0, 0, 1]]\n",
            "5.55\n",
            "iteraciones: 5\n"
          ]
        }
      ]
    }
  ]
}