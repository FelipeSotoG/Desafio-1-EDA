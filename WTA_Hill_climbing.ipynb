{
  "nbformat": 4,
  "nbformat_minor": 0,
  "metadata": {
    "colab": {
      "name": " WTA Hill climbing",
      "provenance": [],
      "collapsed_sections": [],
      "toc_visible": true,
      "include_colab_link": true
    },
    "kernelspec": {
      "name": "python3",
      "display_name": "Python 3"
    },
    "language_info": {
      "name": "python"
    }
  },
  "cells": [
    {
      "cell_type": "markdown",
      "metadata": {
        "id": "view-in-github",
        "colab_type": "text"
      },
      "source": [
        "<a href=\"https://colab.research.google.com/github/FelipeSotoG/Desafio-1-EDA/blob/main/WTA_Hill_climbing.ipynb\" target=\"_parent\"><img src=\"https://colab.research.google.com/assets/colab-badge.svg\" alt=\"Open In Colab\"/></a>"
      ]
    },
    {
      "cell_type": "markdown",
      "source": [
        "# WTA"
      ],
      "metadata": {
        "id": "9tGHVZf2shpL"
      }
    },
    {
      "cell_type": "markdown",
      "source": [
        "Problema WTA resuelto con Hill Climbing Algorithm\n",
        "\n",
        "Initial state es ingresado manualmente."
      ],
      "metadata": {
        "id": "OIpl2hSJsgAF"
      }
    },
    {
      "cell_type": "code",
      "source": [
        "from numpy.matrixlib.defmatrix import matrix\n",
        "import numpy as np\n",
        "import itertools\n",
        "import copy\n",
        "#formato de los estados\n",
        "class State:\n",
        "  id_iter = itertools.count()\n",
        "  def __init__(self, matrix, weapons, prob, value):\n",
        "    self.id = next(State.id_iter)\n",
        "    self.matrix = matrix\n",
        "    self.weapons = weapons\n",
        "    self.prob = prob\n",
        "    self.value = value\n",
        "\n",
        "  def __lt__(self, other):\n",
        "    return self.id < other.id\n",
        "#matriz \"vacía\"\n",
        "initial_state = State([[1,1,3],\\\n",
        "                       [1,1,0],\\\n",
        "                       [0,0,1]],\n",
        "                       [5,2,1],\n",
        "                      [[0.3,0.2,0.5],\\\n",
        "                       [0.1,0.6,0.5],\\\n",
        "                       [0.4,0.5,0.4]],\n",
        "                       [5,10,20] )\n",
        "\n",
        "class Action:\n",
        "  def __init__(self,i,j):\n",
        "    self.i=i; self.j=j\n",
        "\n",
        "N=3 #número de filas/columnas"
      ],
      "metadata": {
        "id": "8zip5AW7tX0t"
      },
      "execution_count": 9,
      "outputs": []
    },
    {
      "cell_type": "markdown",
      "source": [
        "El metodo de transision es solo mover un item de la matriz a otra posicion, que se traduce a poner una arma a otro objetivo."
      ],
      "metadata": {
        "id": "tclK1bERvkhk"
      }
    },
    {
      "cell_type": "code",
      "source": [
        "def transition(state, action):\n",
        "  state.matrix[action.i[0]][action.i[1]] -=1 \n",
        "  state.matrix[action.j[0]][action.j[1]] +=1 "
      ],
      "metadata": {
        "id": "QaU5yPKYvXWl"
      },
      "execution_count": 10,
      "outputs": []
    },
    {
      "cell_type": "markdown",
      "source": [
        "Para ver las acciones validad se tiene que revizar la matriz para encontrar un punto que no sea 0, lo que indica que hay un item que mover."
      ],
      "metadata": {
        "id": "nLAzfcsO1wdV"
      }
    },
    {
      "cell_type": "code",
      "source": [
        "def get_valid_actions(state):\n",
        "  valid_actions = []\n",
        "  for i in range(N):\n",
        "    for j in range(N):\n",
        "      if  state.matrix[i][j] != 0:\n",
        "        for it in range(N):\n",
        "          if it != j:\n",
        "            valid_actions.append(Action([i,j],[i,it]))\n",
        "  return valid_actions"
      ],
      "metadata": {
        "id": "_ehD_RebxIaM"
      },
      "execution_count": 11,
      "outputs": []
    },
    {
      "cell_type": "markdown",
      "source": [
        "Test de get_valid_actions()"
      ],
      "metadata": {
        "id": "uABX51fFE_Jn"
      }
    },
    {
      "cell_type": "code",
      "source": [
        "for x in get_valid_actions(initial_state):\n",
        "  print(x.i,x.j)\n",
        "  new_state = copy.deepcopy(initial_state)\n",
        "  transition(new_state,x)\n",
        "  print(new_state.matrix)"
      ],
      "metadata": {
        "colab": {
          "base_uri": "https://localhost:8080/"
        },
        "id": "TArVZJIhGndG",
        "outputId": "22e8032c-a49e-41fb-871f-c0c449e9cebd"
      },
      "execution_count": 12,
      "outputs": [
        {
          "output_type": "stream",
          "name": "stdout",
          "text": [
            "[0, 0] [0, 1]\n",
            "[[0, 2, 3], [1, 1, 0], [0, 0, 1]]\n",
            "[0, 0] [0, 2]\n",
            "[[0, 1, 4], [1, 1, 0], [0, 0, 1]]\n",
            "[0, 1] [0, 0]\n",
            "[[2, 0, 3], [1, 1, 0], [0, 0, 1]]\n",
            "[0, 1] [0, 2]\n",
            "[[1, 0, 4], [1, 1, 0], [0, 0, 1]]\n",
            "[0, 2] [0, 0]\n",
            "[[2, 1, 2], [1, 1, 0], [0, 0, 1]]\n",
            "[0, 2] [0, 1]\n",
            "[[1, 2, 2], [1, 1, 0], [0, 0, 1]]\n",
            "[1, 0] [1, 1]\n",
            "[[1, 1, 3], [0, 2, 0], [0, 0, 1]]\n",
            "[1, 0] [1, 2]\n",
            "[[1, 1, 3], [0, 1, 1], [0, 0, 1]]\n",
            "[1, 1] [1, 0]\n",
            "[[1, 1, 3], [2, 0, 0], [0, 0, 1]]\n",
            "[1, 1] [1, 2]\n",
            "[[1, 1, 3], [1, 0, 1], [0, 0, 1]]\n",
            "[2, 2] [2, 0]\n",
            "[[1, 1, 3], [1, 1, 0], [1, 0, 0]]\n",
            "[2, 2] [2, 1]\n",
            "[[1, 1, 3], [1, 1, 0], [0, 1, 0]]\n"
          ]
        }
      ]
    },
    {
      "cell_type": "markdown",
      "source": [
        "## Resolución del problema\n",
        "\n",
        "Ya modelado pordemos hacer la huristica que ocuparemos, la cual es la funcion objetivo.\n",
        "\n",
        "Luego podemos implementar el algoritmo de hill climbing"
      ],
      "metadata": {
        "id": "Qr8M938t0oxY"
      }
    },
    {
      "cell_type": "code",
      "source": [
        "import numpy as np\n",
        "\n",
        "def heuristic_eval(state):\n",
        "    minsum=0\n",
        "    for j in range(N):\n",
        "      arr=[]\n",
        "      for i in range(N):\n",
        "        if state.matrix[i][j] != 0: arr.append(pow(1-state.prob[i][j],state.matrix[i][j]))\n",
        "      minsum+= state.value[j]*np.prod(arr) \n",
        "    return minsum"
      ],
      "metadata": {
        "id": "SfOqLeuCDU3d"
      },
      "execution_count": 13,
      "outputs": []
    },
    {
      "cell_type": "markdown",
      "source": [
        "V1 tomando la primera mejora en la heuristica"
      ],
      "metadata": {
        "id": "KRN3L7eawMw5"
      }
    },
    {
      "cell_type": "code",
      "source": [
        "def hill_climbing(initial_state):\n",
        "  stack = [copy.deepcopy(initial_state)]\n",
        "  iters = 0\n",
        "  while len(stack)>0:\n",
        "    iters += 1\n",
        "    state = stack.pop()\n",
        "    actions = get_valid_actions(state)\n",
        "    minv= heuristic_eval(state)\n",
        "    for action in actions:\n",
        "      new_state = copy.deepcopy(state)\n",
        "      transition(new_state,action)\n",
        "      if heuristic_eval(new_state) < minv:\n",
        "        stack.append(new_state)\n",
        "        break\n",
        "  return state,iters"
      ],
      "metadata": {
        "id": "AGrdK7hWz7te"
      },
      "execution_count": 14,
      "outputs": []
    },
    {
      "cell_type": "code",
      "source": [
        "state,iters=hill_climbing(initial_state)\n",
        "print(\"==============================================\")\n",
        "print(state.matrix)\n",
        "print(heuristic_eval(state))\n",
        "print(\"iteraciones:\", iters)"
      ],
      "metadata": {
        "colab": {
          "base_uri": "https://localhost:8080/"
        },
        "id": "X1FpLxF21gzJ",
        "outputId": "22c13720-dbfa-40ff-8520-b8a9ace8ad9a"
      },
      "execution_count": 15,
      "outputs": [
        {
          "output_type": "stream",
          "name": "stdout",
          "text": [
            "==============================================\n",
            "[[2, 0, 3], [0, 2, 0], [0, 0, 1]]\n",
            "5.55\n",
            "iteraciones: 3\n"
          ]
        }
      ]
    },
    {
      "cell_type": "markdown",
      "source": [
        "V2 tomando la mejor de todas las acciones en la heutistica"
      ],
      "metadata": {
        "id": "6L7gg5nYwSxF"
      }
    },
    {
      "cell_type": "code",
      "source": [
        "def hill_climbing(initial_state):\n",
        "  stack = [copy.deepcopy(initial_state)]\n",
        "  iters = 0\n",
        "  while len(stack)>0:\n",
        "    iters += 1\n",
        "    state = stack.pop()\n",
        "    actions = get_valid_actions(state)\n",
        "    minv= heuristic_eval(state)\n",
        "    for action in actions:\n",
        "      arr=[]\n",
        "      new_state = copy.deepcopy(state)\n",
        "      transition(new_state,action)\n",
        "      if heuristic_eval(new_state) < minv:\n",
        "        arr.append([heuristic_eval(new_state),new_state])\n",
        "    if len(arr)!=0:\n",
        "      arr.sort(reverse = True)\n",
        "      stack.append(arr.pop()[1])\n",
        "  return state,iters"
      ],
      "metadata": {
        "id": "K-l6qWV9uRSt"
      },
      "execution_count": 16,
      "outputs": []
    },
    {
      "cell_type": "code",
      "source": [
        "state,iters=hill_climbing(initial_state)\n",
        "print(\"==============================================\")\n",
        "print(state.matrix)\n",
        "print(heuristic_eval(state))\n",
        "print(\"iteraciones:\", iters)"
      ],
      "metadata": {
        "colab": {
          "base_uri": "https://localhost:8080/"
        },
        "id": "ZvZW5z9FFg-P",
        "outputId": "525753d2-b744-4182-aba9-38f66c73feda"
      },
      "execution_count": 17,
      "outputs": [
        {
          "output_type": "stream",
          "name": "stdout",
          "text": [
            "==============================================\n",
            "[[1, 1, 3], [1, 1, 0], [0, 1, 0]]\n",
            "7.25\n",
            "iteraciones: 2\n"
          ]
        }
      ]
    },
    {
      "cell_type": "markdown",
      "source": [
        "Importante destacar el V2 funciona peor porque en este estado inicial, entra en un minimo local si es que se toman todas las acciones posibles en consideración."
      ],
      "metadata": {
        "id": "I1OeHBYdFniG"
      }
    }
  ]
}